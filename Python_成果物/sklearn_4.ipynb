{
 "cells": [
  {
   "cell_type": "code",
   "execution_count": 13,
   "metadata": {},
   "outputs": [
    {
     "name": "stdout",
     "output_type": "stream",
     "text": [
      "Cross-validation scores: [0.96666667 1.         0.93333333 0.96666667 1.        ]\n",
      "Average cross-validation score: 0.97\n"
     ]
    }
   ],
   "source": [
    "from sklearn import datasets\n",
    "from sklearn.model_selection import cross_val_score\n",
    "from sklearn.neighbors import KNeighborsClassifier\n",
    "# Irisデータセットをロード\n",
    "iris = datasets.load_iris()\n",
    "# k-NNのインスタンスを生成\n",
    "knn = KNeighborsClassifier(n_neighbors=5, p=2, metric='minkowski')\n",
    "# クロスバリデーション実行\n",
    "scores = cross_val_score(knn, iris.data, iris.target, cv=5)\n",
    "\n",
    "print(\"Cross-validation scores: {}\".format(scores))\n",
    "print(\"Average cross-validation score: {:.2f}\".format(scores.mean()))\n"
   ]
  },
  {
   "cell_type": "code",
   "execution_count": 12,
   "metadata": {},
   "outputs": [
    {
     "name": "stdout",
     "output_type": "stream",
     "text": [
      "Accuracy on training set: 0.962\n",
      "Accuracy on test set: 0.978\n"
     ]
    }
   ],
   "source": [
    "import matplotlib.pyplot as plt\n",
    "import numpy as np\n",
    "from sklearn import datasets\n",
    "from sklearn.model_selection import train_test_split\n",
    "from sklearn.neighbors import KNeighborsClassifier\n",
    "# Irisデータセットをロード\n",
    "iris = datasets.load_iris()\n",
    "X = iris.data[:, [2, 3]]\n",
    "y = iris.target\n",
    "# トレーニングデータとテストデータに分割\n",
    "X_train, X_test, y_train, y_test = train_test_split(X, y, test_size=0.3, random_state=1, stratify=y)\n",
    "# k-NNのインスタンスを生成\n",
    "knn = KNeighborsClassifier(n_neighbors=5, p=2, metric='minkowski')\n",
    "# k-NNのモデル学習\n",
    "knn.fit(X_train, y_train)\n",
    "# スコア表示\n",
    "print(\"Accuracy on training set: {:.3f}\".format(knn.score(X_train, y_train)))\n",
    "print(\"Accuracy on test set: {:.3f}\".format(knn.score(X_test, y_test)))"
   ]
  },
  {
   "cell_type": "code",
   "execution_count": 14,
   "metadata": {},
   "outputs": [
    {
     "name": "stdout",
     "output_type": "stream",
     "text": [
      "Accuracy: 0.711\n",
      "Confusion matrix:¥n[[15  0  0]\n",
      " [ 0  7  8]\n",
      " [ 0  5 10]]\n",
      "              precision    recall  f1-score   support\n",
      "\n",
      "           0       1.00      1.00      1.00        15\n",
      "           1       0.58      0.47      0.52        15\n",
      "           2       0.56      0.67      0.61        15\n",
      "\n",
      "    accuracy                           0.71        45\n",
      "   macro avg       0.71      0.71      0.71        45\n",
      "weighted avg       0.71      0.71      0.71        45\n",
      "\n"
     ]
    }
   ],
   "source": [
    "from sklearn import datasets\n",
    "from sklearn.model_selection import train_test_split\n",
    "from sklearn.neighbors import KNeighborsClassifier\n",
    "from sklearn.metrics import accuracy_score\n",
    "from sklearn.metrics import confusion_matrix\n",
    "# Irisデータセットをロード\n",
    "iris = datasets.load_iris()\n",
    "# 1、2列目の特徴量を抽出\n",
    "X = iris.data[:, [0, 1]]\n",
    "y = iris.target\n",
    "X_train, X_test, y_train, y_test = train_test_split(X, y, test_size=0.3, random_state=1, stratify=y)\n",
    "# k-NNのインスタンスを生成\n",
    "knn = KNeighborsClassifier(n_neighbors=5, p=2, metric='minkowski')\n",
    "# k-NNのモデル学習\n",
    "knn.fit(X_train, y_train)\n",
    "pred = knn.predict(X_test)\n",
    "print(\"Accuracy: {:.3f}\".format(accuracy_score(y_test, pred)))\n",
    "print(\"Confusion matrix:¥n{}\".format(confusion_matrix(y_test, pred)))\n",
    "\n",
    "from sklearn.metrics import classification_report\n",
    "print(classification_report(y_test, pred))"
   ]
  },
  {
   "cell_type": "code",
   "execution_count": 17,
   "metadata": {},
   "outputs": [
    {
     "name": "stdout",
     "output_type": "stream",
     "text": [
      "[0.96666667 0.96666667 0.9        1.         1.        ]\n",
      "Mean score: 0.9666666666666668 (+/-0.018257418583505533)\n",
      "              precision    recall  f1-score   support\n",
      "\n",
      "           0       1.00      1.00      1.00        50\n",
      "           1       0.79      0.74      0.76        50\n",
      "           2       0.75      0.80      0.78        50\n",
      "\n",
      "    accuracy                           0.85       150\n",
      "   macro avg       0.85      0.85      0.85       150\n",
      "weighted avg       0.85      0.85      0.85       150\n",
      "\n"
     ]
    }
   ],
   "source": [
    "import matplotlib.pyplot as plt\n",
    "import numpy as np\n",
    "from sklearn import datasets\n",
    "from sklearn.model_selection import train_test_split\n",
    "from sklearn.tree import DecisionTreeClassifier\n",
    "from matplotlib.colors import ListedColormap\n",
    "import matplotlib.pyplot as plt\n",
    "import numpy as np\n",
    "from sklearn.model_selection import cross_val_score, KFold\n",
    "from scipy.stats import sem\n",
    "from sklearn.metrics import classification_report\n",
    "\n",
    "# Irisデータセットをロード\n",
    "iris = datasets.load_iris()\n",
    "\n",
    "# 決定木の深さの指定 max_depthは任意の整数\n",
    "clf = DecisionTreeClassifier(max_depth = 5)\n",
    "score = cross_val_score(estimator = clf, X = iris.data, y = iris.target, cv = 5)\n",
    "clf.fit(X,y)\n",
    "pred = clf.predict(X)\n",
    "\n",
    "print(score)\n",
    "print (\"Mean score: {} (+/-{})\".format( np.mean (score), sem(score)))\n",
    "print(classification_report(y,pred ))\n",
    "\n"
   ]
  },
  {
   "cell_type": "code",
   "execution_count": 42,
   "metadata": {},
   "outputs": [
    {
     "name": "stdout",
     "output_type": "stream",
     "text": [
      "48 / 50 = 0.96\n",
      "              precision    recall  f1-score   support\n",
      "\n",
      "           0       1.00      1.00      1.00        18\n",
      "           1       1.00      0.87      0.93        15\n",
      "           2       0.89      1.00      0.94        17\n",
      "\n",
      "    accuracy                           0.96        50\n",
      "   macro avg       0.96      0.96      0.96        50\n",
      "weighted avg       0.96      0.96      0.96        50\n",
      "\n"
     ]
    },
    {
     "name": "stderr",
     "output_type": "stream",
     "text": [
      "d:\\anaconda3\\envs\\python3_6\\lib\\site-packages\\sklearn\\neural_network\\_multilayer_perceptron.py:617: ConvergenceWarning: Stochastic Optimizer: Maximum iterations (200) reached and the optimization hasn't converged yet.\n",
      "  % self.max_iter, ConvergenceWarning)\n"
     ]
    }
   ],
   "source": [
    "from sklearn.datasets import load_iris\n",
    "from sklearn.neural_network import MLPClassifier\n",
    "from sklearn.metrics import classification_report\n",
    "\n",
    "import random\n",
    "\n",
    "if __name__ == '__main__':\n",
    "\n",
    "    # データセットを読み込む\n",
    "    iris = load_iris()\n",
    "    x = iris.data\n",
    "    y = iris.target\n",
    "\n",
    "    # 読み込んだデータセットをシャッフルする\n",
    "    p = list(zip(x, y))\n",
    "    random.shuffle(p)\n",
    "    x, y = zip(*p)\n",
    "\n",
    "    # # 学習データの件数を指定する\n",
    "    # train_size = 100\n",
    "    # test_size = len(x) - train_size\n",
    "\n",
    "    # データセットを学習データとテストデータに分割する\n",
    "    train_x = x[:train_size]\n",
    "    train_y = y[:train_size]\n",
    "    test_x = x[train_size:]\n",
    "    test_y = y[train_size:]\n",
    "\n",
    "    # ニューラルネットワークの学習を行う\n",
    "    mlp = MLPClassifier(hidden_layer_sizes=(100,), max_iter=200)\n",
    "    mlp.fit(x,y)\n",
    "    # pred = mlp.predict(x)\n",
    "\n",
    "    # 学習させたモデルを使ってテストデータに対する予測を出力する\n",
    "    count = 0\n",
    "    pred = mlp.predict(test_x)\n",
    "    for i in range(test_size):\n",
    "        #print('[{0}] correct:{1}, predict:{2}'.format(i, test_y[i], pred[i]))\n",
    "        if pred[i] == test_y[i]:\n",
    "            count += 1\n",
    "\n",
    "    # 予測結果から正答率を算出する\n",
    "    score = float(count) / test_size\n",
    "    print('{0} / {1} = {2}'.format(count, test_size, score))\n",
    "    print(classification_report(test_y,pred))\n"
   ]
  },
  {
   "cell_type": "code",
   "execution_count": 6,
   "metadata": {},
   "outputs": [
    {
     "name": "stdout",
     "output_type": "stream",
     "text": [
      "Accuracy on training set: 0.876\n",
      "Accuracy on test set: 0.689\n"
     ]
    }
   ],
   "source": [
    "import matplotlib.pyplot as plt\n",
    "import numpy as np\n",
    "from sklearn import datasets\n",
    "from sklearn.model_selection import train_test_split\n",
    "from sklearn.tree import DecisionTreeClassifier\n",
    "from matplotlib.colors import ListedColormap\n",
    "import matplotlib.pyplot as plt\n",
    "import numpy as np\n",
    "\n",
    "# Irisデータセットをロード\n",
    "iris = datasets.load_iris()\n",
    "# 1、2列目の特徴量を抽出\n",
    "X = iris.data[:, [0, 1]]\n",
    "# クラスラベルを取得\n",
    "y = iris.target\n",
    "# トレーニングデータとテストデータに分割\n",
    "X_train, X_test, y_train, y_test = train_test_split(X, y, test_size=0.3, random_state=1, stratify=y)\n",
    "# 決定木の生成\n",
    "tree = DecisionTreeClassifier(max_depth=4, random_state=0)\n",
    "tree.fit(X_train, y_train)\n",
    "print(\"Accuracy on training set: {:.3f}\".format(tree.score(X_train, y_train)))\n",
    "print(\"Accuracy on test set: {:.3f}\".format(tree.score(X_test, y_test)))"
   ]
  }
 ],
 "metadata": {
  "interpreter": {
   "hash": "d24a96068d50d0621a38343d879c87d3436e1b6efcd54c4ec88716e0c6182b47"
  },
  "kernelspec": {
   "display_name": "Python 3.6.13 ('python3_6')",
   "language": "python",
   "name": "python3"
  },
  "language_info": {
   "codemirror_mode": {
    "name": "ipython",
    "version": 3
   },
   "file_extension": ".py",
   "mimetype": "text/x-python",
   "name": "python",
   "nbconvert_exporter": "python",
   "pygments_lexer": "ipython3",
   "version": "3.6.13"
  },
  "orig_nbformat": 4
 },
 "nbformat": 4,
 "nbformat_minor": 2
}
