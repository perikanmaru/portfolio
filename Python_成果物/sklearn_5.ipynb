{
 "cells": [
  {
   "cell_type": "code",
   "execution_count": null,
   "metadata": {},
   "outputs": [],
   "source": [
    "from sklearn.datasets import load_wine\n",
    "\n",
    "wine = load_wine(as_frame=True)\n",
    "\n",
    "print(wine.keys())\n",
    "wine.frame"
   ]
  },
  {
   "cell_type": "code",
   "execution_count": null,
   "metadata": {},
   "outputs": [],
   "source": [
    "from sklearn import datasets\n",
    "from sklearn.model_selection import train_test_split\n",
    "from sklearn.neighbors import KNeighborsClassifier\n",
    "from sklearn.metrics import accuracy_score\n",
    "from sklearn.metrics import confusion_matrix\n",
    "from sklearn.metrics import classification_report\n",
    "# wineデータセットをロード\n",
    "wine = datasets.load_wine()\n",
    "# 1、2列目の特徴量を抽出\n",
    "X = wine.data[:, [0, 1]]\n",
    "y = wine.target\n",
    "X_train, X_test, y_train, y_test = train_test_split(X, y, test_size=0.3, random_state=1, stratify=y)\n",
    "# k-NNのインスタンスを生成\n",
    "knn = KNeighborsClassifier(n_neighbors=5, p=2, metric='minkowski')\n",
    "# k-NNのモデル学習\n",
    "knn.fit(X_train, y_train)\n",
    "pred = knn.predict(X_test)\n",
    "print(\"Accuracy on training set: {:.3f}\".format(knn.score(X_train, y_train)))\n",
    "print(\"Accuracy on test set: {:.3f}\".format(knn.score(X_test, y_test)))\n",
    "\n",
    "print(\"Accuracy: {:.3f}\".format(accuracy_score(y_test, pred)))\n",
    "print(\"Confusion matrix:\\n{}\".format(confusion_matrix(y_test, pred)))\n",
    "\n",
    "print(classification_report(y_test, pred))"
   ]
  },
  {
   "cell_type": "code",
   "execution_count": null,
   "metadata": {},
   "outputs": [],
   "source": [
    "from sklearn.datasets import load_wine\n",
    "from sklearn.neural_network import MLPClassifier\n",
    "from sklearn.metrics import classification_report\n",
    "from sklearn.model_selection import train_test_split\n",
    "import random\n",
    "\n",
    "# データセットを読み込む\n",
    "wine = load_wine()\n",
    "x = wine.data\n",
    "y = wine.target\n",
    "\n",
    "# 読み込んだデータセットをシャッフルする\n",
    "p = list(zip(x, y))\n",
    "random.shuffle(p)\n",
    "x, y = zip(*p)\n",
    "\n",
    "# 学習データの件数を指定する\n",
    "train_size = 100\n",
    "test_size = len(x) - train_size\n",
    "\n",
    "X_train, X_test, y_train, y_test = train_test_split(x, y, test_size=0.3, random_state=1, stratify=y)\n",
    "\n",
    "# ニューラルネットワークの学習を行う\n",
    "mlp = MLPClassifier(hidden_layer_sizes=(100,), max_iter=200)\n",
    "mlp.fit(X_train,y_train)\n",
    "pred = mlp.predict(X_test)\n",
    "    \n",
    "# 予測結果から正答率を算出する\n",
    "print(\"Accuracy on training set: {:.3f}\".format(mlp.score(X_train, y_train)))\n",
    "print(\"Accuracy on test set: {:.3f}\".format(mlp.score(X_test, y_test)))\n",
    "    \n",
    "print(\"Accuracy: {:.3f}\".format(accuracy_score(y_test, pred)))\n",
    "print(\"Confusion matrix:\\n{}\".format(confusion_matrix(y_test, pred)))\n",
    "print(classification_report(y_test,pred))"
   ]
  },
  {
   "cell_type": "code",
   "execution_count": null,
   "metadata": {},
   "outputs": [],
   "source": [
    "from sklearn.datasets import load_wine\n",
    "from sklearn.neural_network import MLPClassifier\n",
    "from sklearn.metrics import classification_report\n",
    "from sklearn.model_selection import train_test_split\n",
    "import random\n",
    "\n",
    "# データセットを読み込む\n",
    "wine = load_wine()\n",
    "x = wine.data\n",
    "y = wine.target\n",
    "\n",
    "# 読み込んだデータセットをシャッフルする\n",
    "p = list(zip(x, y))\n",
    "random.shuffle(p)\n",
    "x, y = zip(*p)\n",
    "\n",
    "# 学習データの件数を指定する\n",
    "train_size = 100\n",
    "test_size = len(x) - train_size\n",
    "\n",
    "X_train, X_test, y_train, y_test = train_test_split(x, y, test_size=0.3, random_state=1, stratify=y)\n",
    "# ニューラルネットワークの学習を行う\n",
    "mlp = MLPClassifier(hidden_layer_sizes=(100,),activation='logistic',solver='lbfgs',max_iter=200)\n",
    "mlp.fit(X_train,y_train)\n",
    "pred = mlp.predict(X_test)\n",
    "\n",
    "# 予測結果から正答率を算出する\n",
    "print(\"Accuracy on training set: {:.3f}\".format(mlp.score(X_train, y_train)))\n",
    "print(\"Accuracy on test set: {:.3f}\".format(mlp.score(X_test, y_test)))\n",
    "\n",
    "print(\"Accuracy: {:.3f}\".format(accuracy_score(y_test, pred)))\n",
    "print(\"Confusion matrix:\\n{}\".format(confusion_matrix(y_test, pred)))\n",
    "print(classification_report(y_test,pred))"
   ]
  }
 ],
 "metadata": {
  "kernelspec": {
   "display_name": "Python 3.6.13 ('python3_6')",
   "language": "python",
   "name": "python3"
  },
  "language_info": {
   "codemirror_mode": {
    "name": "ipython",
    "version": 3
   },
   "file_extension": ".py",
   "mimetype": "text/x-python",
   "name": "python",
   "nbconvert_exporter": "python",
   "pygments_lexer": "ipython3",
   "version": "3.6.13"
  },
  "orig_nbformat": 4,
  "vscode": {
   "interpreter": {
    "hash": "d24a96068d50d0621a38343d879c87d3436e1b6efcd54c4ec88716e0c6182b47"
   }
  }
 },
 "nbformat": 4,
 "nbformat_minor": 2
}
