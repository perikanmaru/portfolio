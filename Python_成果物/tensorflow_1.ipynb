{
 "cells": [
  {
   "cell_type": "code",
   "execution_count": null,
   "metadata": {},
   "outputs": [],
   "source": [
    "import matplotlib.pyplot as plt\n",
    "from tensorflow.keras import datasets, layers, models\n",
    "# 手書き文字 訓練・テストデータのダウンロード\n",
    "(train_images, train_labels), (test_images, test_labels) = datasets.mnist.load_data()\n",
    "# 訓練データとテストデータ\n",
    "train_images = train_images.reshape((60000, 28, 28, 1))\n",
    "test_images = test_images.reshape((10000, 28, 28, 1))\n",
    "# ピクセルの値を 0~1 の間に正規化\n",
    "train_images, test_images = train_images / 255.0, test_images / 255.0\n",
    "# モデル\n",
    "model = models.Sequential()\n",
    "model.add(layers.Conv2D(32, (5, 5), activation='relu', input_shape=(28, 28, 1)))\n",
    "model.add(layers.MaxPooling2D((2, 2)))\n",
    "model.add(layers.Conv2D(64, (5, 5), activation='relu'))\n",
    "model.add(layers.MaxPooling2D((2, 2)))\n",
    "model.add(layers.Flatten())\n",
    "model.add(layers.Dense(1024, activation='relu'))\n",
    "model.add(layers.Dense(10, activation='softmax'))\n",
    "model.compile(optimizer='adam', loss='sparse_categorical_crossentropy', metrics=['accuracy'])\n",
    "model.summary()\n",
    "# 学習\n",
    "model.fit(train_images, train_labels, batch_size=128, epochs=5)\n",
    "# 評価\n",
    "train_loss, train_acc = model.evaluate(train_images, train_labels)\n",
    "test_loss, test_acc = model.evaluate(test_images, test_labels)\n",
    "print(\"Train data accuracy: %3.4f\" %train_acc)\n",
    "print(\"Test data accuracy: %3.4f\" %test_acc)"
   ]
  },
  {
   "cell_type": "code",
   "execution_count": null,
   "metadata": {},
   "outputs": [],
   "source": [
    "import matplotlib.pyplot as plt\n",
    "from tensorflow.keras import datasets, layers, models\n",
    "# 学習・評価データのダウンロード\n",
    "(train_images, train_labels), (test_images, test_labels) = datasets.mnist.load_data()\n",
    "# 学習データ\n",
    "im_size = 28 * 28 * 1\n",
    "train_images = train_images.reshape((60000, im_size))\n",
    "# 評価データ\n",
    "test_images = test_images.reshape((10000, im_size))\n",
    "# ピクセルの値を 0~1 の間に正規化\n",
    "train_images, test_images = train_images / 255.0, test_images / 255.0\n",
    "# モデル\n",
    "model = models.Sequential()\n",
    "model.add(layers.Dense(256, activation='relu', input_shape=(im_size,)))\n",
    "model.add(layers.Dense(256, activation='relu'))\n",
    "model.add(layers.Dense(10, activation='softmax'))\n",
    "model.compile(optimizer='adam', loss='sparse_categorical_crossentropy', metrics=['accuracy'])\n",
    "model.summary()\n",
    "# 学習\n",
    "model.fit(train_images, train_labels, batch_size=128, epochs=5)\n",
    "# 評価\n",
    "train_loss, train_acc = model.evaluate(train_images, train_labels)\n",
    "test_loss, test_acc = model.evaluate(test_images, test_labels)\n",
    "print(\"Train data accuracy: %3.4f\" %train_acc)\n",
    "print(\"Test data accuracy: %3.4f\" %test_acc)\n",
    "# モデルの保存\n",
    "model.save(\"model_mlp_mnist.h5\")"
   ]
  },
  {
   "cell_type": "code",
   "execution_count": null,
   "metadata": {},
   "outputs": [],
   "source": [
    "from PIL import Image\n",
    "import PIL.ImageOps\n",
    "import matplotlib.pyplot as plt\n",
    "import numpy as np\n",
    "from tensorflow.keras.models import load_model\n",
    "in_shape = (1, 28, 28, 1)\n",
    "test_image = \"test_1.jpg\"\n",
    "test_label = 2\n",
    "model_param = \"model_cnn_mnist.h5\"\n",
    "img_in = Image.open(test_image)\n",
    "img_gray = img_in.convert(\"L\")\n",
    "img_inv = PIL.ImageOps.invert(img_gray)\n",
    "img_inv_resize = img_inv.resize((28, 28))\n",
    "img_np = np.array(img_inv_resize)\n",
    "img = img_np.reshape(in_shape) / 255.0\n",
    "# モデルのロード\n",
    "model = load_model(model_param)\n",
    "model.summary()\n",
    "# 文字認識の実行\n",
    "prd = model.predict(img)\n",
    "print(\"Model output:\" )\n",
    "print(prd)\n",
    "prelabel = np.argmax(prd, axis=1)\n",
    "max_index = prd[0].argmax()\n",
    "print(\"Recognition result: %d\" %max_index)\n",
    "plt.imshow(img_in, cmap='gray')\n",
    "plt.xlabel(test_label)\n",
    "plt.show()\n",
    "plt.imshow(img_inv_resize, cmap='gray')\n",
    "plt.xlabel(test_label)\n",
    "plt.show()"
   ]
  }
 ],
 "metadata": {
  "kernelspec": {
   "display_name": "Python 3.6.13 ('Tensorflow')",
   "language": "python",
   "name": "python3"
  },
  "language_info": {
   "name": "python",
   "version": "3.9.13"
  },
  "orig_nbformat": 4,
  "vscode": {
   "interpreter": {
    "hash": "2cb49aa8c70483ec86efb95e50ae759e64488101622f1c32f44ab1d8fac2e871"
   }
  }
 },
 "nbformat": 4,
 "nbformat_minor": 2
}
