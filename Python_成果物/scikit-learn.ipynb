{
 "cells": [
  {
   "cell_type": "code",
   "execution_count": 1,
   "metadata": {},
   "outputs": [
    {
     "name": "stdout",
     "output_type": "stream",
     "text": [
      "hello\n"
     ]
    }
   ],
   "source": [
    "print(\"hello\")"
   ]
  },
  {
   "cell_type": "code",
   "execution_count": 1,
   "metadata": {},
   "outputs": [
    {
     "data": {
      "image/png": "[encoded data removed]",
      "text/plain": [
       "<Figure size 432x288 with 1 Axes>"
      ]
     },
     "metadata": {
      "needs_background": "light"
     },
     "output_type": "display_data"
    }
   ],
   "source": [
    "import numpy\n",
    "from matplotlib import pyplot\n",
    "x = numpy.linspace(0, 2 * numpy.pi, 100)\n",
    "y = numpy.sin(x)\n",
    "pyplot.plot(x, y)\n",
    "pyplot.show()"
   ]
  },
  {
   "cell_type": "code",
   "execution_count": 6,
   "metadata": {},
   "outputs": [
    {
     "name": "stdout",
     "output_type": "stream",
     "text": [
      "    商品名   価格\n",
      "ID          \n",
      "1   りんご  150\n",
      "2   みかん  100\n",
      "3   ぶどう  300\n",
      "4   ばなな  200\n",
      "5    もも  500\n"
     ]
    }
   ],
   "source": [
    "# pandasライブラリのimport\n",
    "import pandas as pd\n",
    "\n",
    "# csvデータをpandasを使用して読み込む\n",
    "data = pd.read_csv('sample.csv',index_col=0,encoding='shift_jis')\n",
    "\n",
    "# 取得したデータを出力\n",
    "print(data)"
   ]
  },
  {
   "cell_type": "code",
   "execution_count": 7,
   "metadata": {},
   "outputs": [
    {
     "data": {
      "image/png": "[encoded data removed]",
      "text/plain": [
       "<Figure size 288x288 with 1 Axes>"
      ]
     },
     "metadata": {
      "needs_background": "light"
     },
     "output_type": "display_data"
    },
    {
     "name": "stdout",
     "output_type": "stream",
     "text": [
      "正解率: 0.9866369710467706\n",
      "classification report\n",
      "              precision    recall  f1-score   support\n",
      "\n",
      "           0       1.00      0.99      0.99        88\n",
      "           1       0.98      1.00      0.99        89\n",
      "           2       1.00      1.00      1.00        91\n",
      "           3       1.00      0.98      0.99        93\n",
      "           4       0.99      1.00      0.99        88\n",
      "           5       0.98      0.97      0.97        91\n",
      "           6       0.99      1.00      0.99        90\n",
      "           7       0.99      1.00      0.99        91\n",
      "           8       0.97      0.97      0.97        86\n",
      "           9       0.98      0.97      0.97        91\n",
      "\n",
      "    accuracy                           0.99       898\n",
      "   macro avg       0.99      0.99      0.99       898\n",
      "weighted avg       0.99      0.99      0.99       898\n",
      "\n"
     ]
    }
   ],
   "source": [
    "from sklearn import datasets\n",
    "digits = datasets.load_digits()\n",
    "import matplotlib.pyplot as plt\n",
    "plt.matshow(digits.images[0], cmap=\"Greys\")\n",
    "plt.show()\n",
    "X = digits.data\n",
    "y = digits.target\n",
    "X_train, y_train = X[0::2], y[0::2]\n",
    "X_test, y_test = X[1::2], y[1::2]\n",
    "from sklearn import svm\n",
    "clf = svm.SVC(gamma=0.001)\n",
    "clf.fit(X_train, y_train)\n",
    "from sklearn import metrics\n",
    "accuracy = clf.score(X_test, y_test)\n",
    "print(f\"正解率: {accuracy}\")\n",
    "predicted = clf.predict(X_test)\n",
    "print(\"classification report\")\n",
    "print(metrics.classification_report(y_test, predicted))"
   ]
  },
  {
   "cell_type": "code",
   "execution_count": 7,
   "metadata": {},
   "outputs": [
    {
     "name": "stdout",
     "output_type": "stream",
     "text": [
      "メモリ使用率: 81.6\n",
      "メモリ使用量: 6837121024\n",
      "空き: 1537626112\n"
     ]
    }
   ],
   "source": [
    "import psutil\n",
    "\n",
    "mem = psutil.virtual_memory()\n",
    "\n",
    "print(f'メモリ使用率: {mem.percent}')\n",
    "print(f'メモリ使用量: {mem.used}')\n",
    "print(f'空き: {mem.free}')"
   ]
  }
 ],
 "metadata": {
  "interpreter": {
   "hash": "7b4b4feff2f24a0f0a34464dbe537a36fda679851528fb8735cb41fa49dffb2d"
  },
  "kernelspec": {
   "display_name": "Python 3.9.7 ('base')",
   "language": "python",
   "name": "python3"
  },
  "language_info": {
   "codemirror_mode": {
    "name": "ipython",
    "version": 3
   },
   "file_extension": ".py",
   "mimetype": "text/x-python",
   "name": "python",
   "nbconvert_exporter": "python",
   "pygments_lexer": "ipython3",
   "version": "3.6.13"
  },
  "orig_nbformat": 4
 },
 "nbformat": 4,
 "nbformat_minor": 2
}
