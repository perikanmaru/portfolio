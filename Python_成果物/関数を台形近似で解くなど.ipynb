{
 "cells": [
  {
   "cell_type": "code",
   "execution_count": 8,
   "metadata": {},
   "outputs": [
    {
     "name": "stdout",
     "output_type": "stream",
     "text": [
      "A\n"
     ]
    }
   ],
   "source": [
    "number = input(\"点数を入力\")\n",
    "result = int(number)\n",
    "if result >=80:\n",
    "    print(\"A\")\n",
    "elif result <80:\n",
    "    print(\"B\")"
   ]
  },
  {
   "cell_type": "code",
   "execution_count": 3,
   "metadata": {},
   "outputs": [
    {
     "name": "stdout",
     "output_type": "stream",
     "text": [
      "1.2515002500000005\n"
     ]
    }
   ],
   "source": [
    "# y = x^3+1 の台形近似法で解く\n",
    "number = input(\"ループ回数(計算回数)\")\n",
    "n = int(number)\n",
    "roop = 0\n",
    "b = 1\n",
    "c = 0\n",
    "total = 0\n",
    "while roop <= n:\n",
    "    # 1つの区間の計算\n",
    "    f = b/n*((c/n)**3+1)\n",
    "    # totalに代入\n",
    "    total = f + total\n",
    "    roop = roop + 1\n",
    "    c = c + 1\n",
    "print(total)\n"
   ]
  },
  {
   "cell_type": "code",
   "execution_count": 27,
   "metadata": {},
   "outputs": [
    {
     "name": "stdout",
     "output_type": "stream",
     "text": [
      "1.2500000014997772\n"
     ]
    }
   ],
   "source": [
    "# y = x^3+1 の台形近似法で解く\n",
    "\n",
    "#計算する回数 \n",
    "n = 1000000000\n",
    "roop = 0\n",
    "b = 1\n",
    "c = 0\n",
    "total = 0\n",
    "while roop <= n:\n",
    "    # 1つの区間の計算\n",
    "    f = b/n*((c/n)**3+1)\n",
    "    # totalに代入\n",
    "    total = f + total\n",
    "    roop = roop + 1\n",
    "    c = c + 1\n",
    "print(total)"
   ]
  }
 ],
 "metadata": {
  "interpreter": {
   "hash": "d24a96068d50d0621a38343d879c87d3436e1b6efcd54c4ec88716e0c6182b47"
  },
  "kernelspec": {
   "display_name": "Python 3.6.13 ('python3_6')",
   "language": "python",
   "name": "python3"
  },
  "language_info": {
   "codemirror_mode": {
    "name": "ipython",
    "version": 3
   },
   "file_extension": ".py",
   "mimetype": "text/x-python",
   "name": "python",
   "nbconvert_exporter": "python",
   "pygments_lexer": "ipython3",
   "version": "3.6.13"
  },
  "orig_nbformat": 4
 },
 "nbformat": 4,
 "nbformat_minor": 2
}
